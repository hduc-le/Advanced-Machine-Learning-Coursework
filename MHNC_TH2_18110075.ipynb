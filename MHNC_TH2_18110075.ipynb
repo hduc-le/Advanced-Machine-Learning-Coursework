{
  "nbformat": 4,
  "nbformat_minor": 0,
  "metadata": {
    "accelerator": "GPU",
    "colab": {
      "name": "MHNC_TH2_18110075.ipynb",
      "provenance": [],
      "collapsed_sections": []
    },
    "kernelspec": {
      "display_name": "Python 3",
      "name": "python3"
    },
    "language_info": {
      "name": "python"
    }
  },
  "cells": [
    {
      "cell_type": "markdown",
      "metadata": {
        "id": "ZHZzskq8_NBM"
      },
      "source": [
        "Họ tên: Lê Hoàng Đức\n",
        "\n",
        "MSSV: 18110075\n",
        "\n",
        "Thực hành máy học nâng cao - 02"
      ]
    },
    {
      "cell_type": "code",
      "metadata": {
        "id": "cLvp5vx2dXIV"
      },
      "source": [
        "import numpy as np\n",
        "import tensorflow as tf\n",
        "import matplotlib.pyplot as plt\n",
        "from tensorflow import keras\n",
        "from tensorflow.keras.models import Sequential\n",
        "from tensorflow.keras.layers import Dense, Activation, Dropout, Flatten, Conv2D, MaxPooling2D, BatchNormalization, Input\n",
        "from keras import regularizers\n",
        "from sklearn.model_selection import train_test_split\n"
      ],
      "execution_count": 1,
      "outputs": []
    },
    {
      "cell_type": "code",
      "metadata": {
        "colab": {
          "base_uri": "https://localhost:8080/"
        },
        "id": "AFPDTfOvCcZw",
        "outputId": "9190c665-2aa4-4763-b71a-78fc467209a2"
      },
      "source": [
        "(X_train, y_train), (X_test, y_test) = tf.keras.datasets.cifar10.load_data()\n",
        "\n",
        "X_train, X_test = X_train/255.0, X_test/255.0\n",
        "\n",
        "# shape \n",
        "print(X_train.shape, y_train.shape, X_test.shape, y_test.shape)"
      ],
      "execution_count": 2,
      "outputs": [
        {
          "output_type": "stream",
          "name": "stdout",
          "text": [
            "(50000, 32, 32, 3) (50000, 1) (10000, 32, 32, 3) (10000, 1)\n"
          ]
        }
      ]
    },
    {
      "cell_type": "code",
      "metadata": {
        "id": "v0nbSq3VCp2w"
      },
      "source": [
        "# split data\n",
        "X_train, X_valid, y_train, y_valid = train_test_split(X_train, y_train, test_size=0.1)\n"
      ],
      "execution_count": 3,
      "outputs": []
    },
    {
      "cell_type": "code",
      "metadata": {
        "id": "ri5Cd5-cLF-K"
      },
      "source": [
        "def plot_history(history, nEpoch):\n",
        "    # Plot loss and accuracy\n",
        "    acc = history.history['accuracy']\n",
        "    val_acc = history.history['val_accuracy']\n",
        "\n",
        "    loss = history.history['loss']\n",
        "    val_loss = history.history['val_loss']\n",
        "\n",
        "    epochs_range = range(nEpoch)\n",
        "\n",
        "    plt.figure(figsize=(15, 5))\n",
        "    plt.subplot(1, 2, 1)\n",
        "    plt.plot(epochs_range, acc, label='Training Accuracy')\n",
        "    plt.plot(epochs_range, val_acc, label='Validation Accuracy')\n",
        "    plt.legend(loc='lower right')\n",
        "    plt.title('Training and Validation Accuracy')\n",
        "\n",
        "    plt.subplot(1, 2, 2)\n",
        "    plt.plot(epochs_range, loss, label='Training Loss')\n",
        "    plt.plot(epochs_range, val_loss, label='Validation Loss')\n",
        "    plt.legend(loc='upper right')\n",
        "    plt.title('Training and Validation Loss')\n",
        "    plt.tight_layout()\n",
        "    plt.show()"
      ],
      "execution_count": 4,
      "outputs": []
    },
    {
      "cell_type": "code",
      "metadata": {
        "id": "UKwl7oruCre6"
      },
      "source": [
        "def VGG16():\n",
        "    model = Sequential()\n",
        "    # Block 1\n",
        "    model.add(Conv2D(input_shape=(32,32,3),\n",
        "                     filters=64,\n",
        "                     kernel_size=(3,3),\n",
        "                     strides=(1,1),\n",
        "                     padding='same',\n",
        "                     activation='relu'))\n",
        "\n",
        "    model.add(Conv2D(filters=64,\n",
        "                     kernel_size=(3,3),\n",
        "                     strides=(1,1),\n",
        "                     padding='same',\n",
        "                     activation='relu'))\n",
        "    \n",
        "    model.add(MaxPooling2D(pool_size=(2,2),\n",
        "                           strides=(2,2)))\n",
        "    # Block 2\n",
        "    model.add(Conv2D(filters=128,\n",
        "                     kernel_size=(3,3),\n",
        "                     strides=(1,1),\n",
        "                     padding='same',\n",
        "                     activation='relu'))\n",
        "    \n",
        "    \n",
        "    model.add(Conv2D(filters=128,\n",
        "                     kernel_size=(3,3),\n",
        "                     strides=(1,1),\n",
        "                     padding='same',\n",
        "                     activation='relu'))\n",
        "    \n",
        "    model.add(MaxPooling2D(pool_size=(2,2),\n",
        "                           strides=(2,2)))\n",
        "    # Block 3\n",
        "    model.add(Conv2D(filters=256,\n",
        "                     kernel_size=(3,3),\n",
        "                     strides=(1,1),\n",
        "                     padding='same',\n",
        "                     activation='relu'))\n",
        "    \n",
        "    \n",
        "    \n",
        "    model.add(Conv2D(filters=256,\n",
        "                     kernel_size=(3,3),\n",
        "                     strides=(1,1),\n",
        "                     padding='same',\n",
        "                     activation='relu'))\n",
        "    \n",
        "    \n",
        "\n",
        "    model.add(Conv2D(filters=256,\n",
        "                     kernel_size=(3,3),\n",
        "                     strides=(1,1),\n",
        "                     padding='same',\n",
        "                     activation='relu'))\n",
        "    \n",
        "    model.add(MaxPooling2D(pool_size=(2,2),\n",
        "                           strides=(2,2)))\n",
        "    # Block 4\n",
        "    model.add(Conv2D(filters=512,\n",
        "                     kernel_size=(3,3),\n",
        "                     strides=(1,1),\n",
        "                     padding='same',\n",
        "                     activation='relu'))\n",
        "    \n",
        "    \n",
        "    \n",
        "    model.add(Conv2D(filters=512,\n",
        "                     kernel_size=(3,3),\n",
        "                     strides=(1,1),\n",
        "                     padding='same',\n",
        "                     activation='relu'))\n",
        "    \n",
        "    \n",
        "\n",
        "    model.add(Conv2D(filters=512,\n",
        "                     kernel_size=(3,3),\n",
        "                     strides=(1,1),\n",
        "                     padding='same',\n",
        "                     activation='relu'))\n",
        "    \n",
        "    model.add(MaxPooling2D(pool_size=(2,2),\n",
        "                           strides=(2,2)))\n",
        "    # Block 5\n",
        "    model.add(Conv2D(filters=512,\n",
        "                     kernel_size=(3,3),\n",
        "                     strides=(1,1),\n",
        "                     padding='same',\n",
        "                     activation='relu'))\n",
        "    \n",
        "    model.add(Conv2D(filters=512,\n",
        "                     kernel_size=(3,3),\n",
        "                     strides=(1,1),\n",
        "                     padding='same',\n",
        "                     activation='relu'))\n",
        "\n",
        "    model.add(Conv2D(filters=512,\n",
        "                     kernel_size=(3,3),\n",
        "                     strides=(1,1),\n",
        "                     padding='same',\n",
        "                     activation='relu'))\n",
        "    \n",
        "    model.add(MaxPooling2D(pool_size=(2,2),\n",
        "                           strides=(2,2)))\n",
        "    # Block 6\n",
        "    model.add(Flatten())\n",
        "    model.add(Dense(units=4096,\n",
        "                    activation='relu'))\n",
        "    model.add(Dropout(0.5))\n",
        "\n",
        "        \n",
        "\n",
        "    model.add(Dense(units=4096,\n",
        "                    activation='relu'))\n",
        "    model.add(Dropout(0.5))\n",
        "\n",
        "    model.add(Dense(units=10, \n",
        "                    activation='softmax'))\n",
        "    \n",
        "    return model"
      ],
      "execution_count": 5,
      "outputs": []
    },
    {
      "cell_type": "code",
      "metadata": {
        "colab": {
          "base_uri": "https://localhost:8080/"
        },
        "id": "ObTbh67vHShI",
        "outputId": "7709e417-532c-4395-de69-04c4a687cf56"
      },
      "source": [
        "model = VGG16()\n",
        "#Model Summary\n",
        "model.summary()"
      ],
      "execution_count": 6,
      "outputs": [
        {
          "output_type": "stream",
          "name": "stdout",
          "text": [
            "Model: \"sequential\"\n",
            "_________________________________________________________________\n",
            "Layer (type)                 Output Shape              Param #   \n",
            "=================================================================\n",
            "conv2d (Conv2D)              (None, 32, 32, 64)        1792      \n",
            "_________________________________________________________________\n",
            "conv2d_1 (Conv2D)            (None, 32, 32, 64)        36928     \n",
            "_________________________________________________________________\n",
            "max_pooling2d (MaxPooling2D) (None, 16, 16, 64)        0         \n",
            "_________________________________________________________________\n",
            "conv2d_2 (Conv2D)            (None, 16, 16, 128)       73856     \n",
            "_________________________________________________________________\n",
            "conv2d_3 (Conv2D)            (None, 16, 16, 128)       147584    \n",
            "_________________________________________________________________\n",
            "max_pooling2d_1 (MaxPooling2 (None, 8, 8, 128)         0         \n",
            "_________________________________________________________________\n",
            "conv2d_4 (Conv2D)            (None, 8, 8, 256)         295168    \n",
            "_________________________________________________________________\n",
            "conv2d_5 (Conv2D)            (None, 8, 8, 256)         590080    \n",
            "_________________________________________________________________\n",
            "conv2d_6 (Conv2D)            (None, 8, 8, 256)         590080    \n",
            "_________________________________________________________________\n",
            "max_pooling2d_2 (MaxPooling2 (None, 4, 4, 256)         0         \n",
            "_________________________________________________________________\n",
            "conv2d_7 (Conv2D)            (None, 4, 4, 512)         1180160   \n",
            "_________________________________________________________________\n",
            "conv2d_8 (Conv2D)            (None, 4, 4, 512)         2359808   \n",
            "_________________________________________________________________\n",
            "conv2d_9 (Conv2D)            (None, 4, 4, 512)         2359808   \n",
            "_________________________________________________________________\n",
            "max_pooling2d_3 (MaxPooling2 (None, 2, 2, 512)         0         \n",
            "_________________________________________________________________\n",
            "conv2d_10 (Conv2D)           (None, 2, 2, 512)         2359808   \n",
            "_________________________________________________________________\n",
            "conv2d_11 (Conv2D)           (None, 2, 2, 512)         2359808   \n",
            "_________________________________________________________________\n",
            "conv2d_12 (Conv2D)           (None, 2, 2, 512)         2359808   \n",
            "_________________________________________________________________\n",
            "max_pooling2d_4 (MaxPooling2 (None, 1, 1, 512)         0         \n",
            "_________________________________________________________________\n",
            "flatten (Flatten)            (None, 512)               0         \n",
            "_________________________________________________________________\n",
            "dense (Dense)                (None, 4096)              2101248   \n",
            "_________________________________________________________________\n",
            "dropout (Dropout)            (None, 4096)              0         \n",
            "_________________________________________________________________\n",
            "dense_1 (Dense)              (None, 4096)              16781312  \n",
            "_________________________________________________________________\n",
            "dropout_1 (Dropout)          (None, 4096)              0         \n",
            "_________________________________________________________________\n",
            "dense_2 (Dense)              (None, 10)                40970     \n",
            "=================================================================\n",
            "Total params: 33,638,218\n",
            "Trainable params: 33,638,218\n",
            "Non-trainable params: 0\n",
            "_________________________________________________________________\n"
          ]
        }
      ]
    },
    {
      "cell_type": "code",
      "metadata": {
        "colab": {
          "base_uri": "https://localhost:8080/"
        },
        "id": "6SdOVaCIJ_Gn",
        "outputId": "152b26a8-b13b-466e-8d88-ba4744ee4fd0"
      },
      "source": [
        "# HYPER PARAMETERS\n",
        "lr = 5e-5\n",
        "checkpoint_path = \"epoch: {epoch:02d}.hdf5\"\n",
        "batch_size = 512\n",
        "nEpoch=30\n",
        "\n",
        "model.compile(\n",
        "    loss = tf.keras.losses.sparse_categorical_crossentropy,\n",
        "    optimizer= tf.keras.optimizers.Adam(learning_rate=lr),\n",
        "    metrics=[\"accuracy\"]\n",
        ")\n",
        "\n",
        "mc = tf.keras.callbacks.ModelCheckpoint(filepath=checkpoint_path, \n",
        "                                     monitor='val_loss',\n",
        "                                     mode='min', \n",
        "                                     verbose=0,\n",
        "                                     save_best_only=False)\n",
        "\n",
        "history = model.fit(X_train, y_train,\n",
        "                    batch_size=batch_size,\n",
        "                    epochs=nEpoch,\n",
        "                    validation_data=(X_valid, y_valid),\n",
        "                    callbacks=[mc])"
      ],
      "execution_count": 7,
      "outputs": [
        {
          "output_type": "stream",
          "name": "stdout",
          "text": [
            "Epoch 1/30\n",
            "88/88 [==============================] - 54s 502ms/step - loss: 2.1836 - accuracy: 0.1477 - val_loss: 2.0385 - val_accuracy: 0.1990\n",
            "Epoch 2/30\n",
            "88/88 [==============================] - 34s 381ms/step - loss: 1.8873 - accuracy: 0.2637 - val_loss: 1.7717 - val_accuracy: 0.3002\n",
            "Epoch 3/30\n",
            "88/88 [==============================] - 34s 383ms/step - loss: 1.7259 - accuracy: 0.3253 - val_loss: 1.6625 - val_accuracy: 0.3562\n",
            "Epoch 4/30\n",
            "88/88 [==============================] - 34s 384ms/step - loss: 1.6228 - accuracy: 0.3665 - val_loss: 1.5302 - val_accuracy: 0.4084\n",
            "Epoch 5/30\n",
            "88/88 [==============================] - 34s 384ms/step - loss: 1.5149 - accuracy: 0.4162 - val_loss: 1.4301 - val_accuracy: 0.4646\n",
            "Epoch 6/30\n",
            "88/88 [==============================] - 34s 383ms/step - loss: 1.4385 - accuracy: 0.4565 - val_loss: 1.3495 - val_accuracy: 0.4946\n",
            "Epoch 7/30\n",
            "88/88 [==============================] - 34s 383ms/step - loss: 1.3517 - accuracy: 0.4964 - val_loss: 1.3486 - val_accuracy: 0.4996\n",
            "Epoch 8/30\n",
            "88/88 [==============================] - 34s 383ms/step - loss: 1.2718 - accuracy: 0.5292 - val_loss: 1.2829 - val_accuracy: 0.5284\n",
            "Epoch 9/30\n",
            "88/88 [==============================] - 34s 384ms/step - loss: 1.2119 - accuracy: 0.5519 - val_loss: 1.2067 - val_accuracy: 0.5524\n",
            "Epoch 10/30\n",
            "88/88 [==============================] - 34s 384ms/step - loss: 1.1609 - accuracy: 0.5743 - val_loss: 1.2157 - val_accuracy: 0.5582\n",
            "Epoch 11/30\n",
            "88/88 [==============================] - 34s 384ms/step - loss: 1.1089 - accuracy: 0.5970 - val_loss: 1.1567 - val_accuracy: 0.5754\n",
            "Epoch 12/30\n",
            "88/88 [==============================] - 34s 384ms/step - loss: 1.0599 - accuracy: 0.6156 - val_loss: 1.1282 - val_accuracy: 0.5874\n",
            "Epoch 13/30\n",
            "88/88 [==============================] - 34s 384ms/step - loss: 1.0037 - accuracy: 0.6366 - val_loss: 1.0833 - val_accuracy: 0.6038\n",
            "Epoch 14/30\n",
            "88/88 [==============================] - 34s 384ms/step - loss: 0.9654 - accuracy: 0.6492 - val_loss: 1.0905 - val_accuracy: 0.5996\n",
            "Epoch 15/30\n",
            "88/88 [==============================] - 34s 383ms/step - loss: 0.9140 - accuracy: 0.6712 - val_loss: 1.0519 - val_accuracy: 0.6212\n",
            "Epoch 16/30\n",
            "88/88 [==============================] - 34s 384ms/step - loss: 0.8690 - accuracy: 0.6871 - val_loss: 1.0884 - val_accuracy: 0.6052\n",
            "Epoch 17/30\n",
            "88/88 [==============================] - 34s 384ms/step - loss: 0.8300 - accuracy: 0.7026 - val_loss: 1.1534 - val_accuracy: 0.5920\n",
            "Epoch 18/30\n",
            "88/88 [==============================] - 34s 385ms/step - loss: 0.7784 - accuracy: 0.7214 - val_loss: 1.0712 - val_accuracy: 0.6220\n",
            "Epoch 19/30\n",
            "88/88 [==============================] - 34s 384ms/step - loss: 0.7201 - accuracy: 0.7429 - val_loss: 1.0591 - val_accuracy: 0.6362\n",
            "Epoch 20/30\n",
            "88/88 [==============================] - 34s 385ms/step - loss: 0.6721 - accuracy: 0.7602 - val_loss: 1.0929 - val_accuracy: 0.6318\n",
            "Epoch 21/30\n",
            "88/88 [==============================] - 34s 385ms/step - loss: 0.6319 - accuracy: 0.7750 - val_loss: 1.0884 - val_accuracy: 0.6334\n",
            "Epoch 22/30\n",
            "88/88 [==============================] - 34s 385ms/step - loss: 0.5907 - accuracy: 0.7902 - val_loss: 1.0616 - val_accuracy: 0.6400\n",
            "Epoch 23/30\n",
            "88/88 [==============================] - 34s 385ms/step - loss: 0.5459 - accuracy: 0.8060 - val_loss: 1.1223 - val_accuracy: 0.6430\n",
            "Epoch 24/30\n",
            "88/88 [==============================] - 34s 385ms/step - loss: 0.4902 - accuracy: 0.8266 - val_loss: 1.2521 - val_accuracy: 0.6284\n",
            "Epoch 25/30\n",
            "88/88 [==============================] - 34s 385ms/step - loss: 0.4335 - accuracy: 0.8488 - val_loss: 1.3742 - val_accuracy: 0.6142\n",
            "Epoch 26/30\n",
            "88/88 [==============================] - 34s 385ms/step - loss: 0.4170 - accuracy: 0.8534 - val_loss: 1.2527 - val_accuracy: 0.6404\n",
            "Epoch 27/30\n",
            "88/88 [==============================] - 34s 385ms/step - loss: 0.3780 - accuracy: 0.8677 - val_loss: 1.3736 - val_accuracy: 0.6258\n",
            "Epoch 28/30\n",
            "88/88 [==============================] - 34s 384ms/step - loss: 0.3096 - accuracy: 0.8958 - val_loss: 1.4322 - val_accuracy: 0.6244\n",
            "Epoch 29/30\n",
            "88/88 [==============================] - 34s 385ms/step - loss: 0.2834 - accuracy: 0.9033 - val_loss: 1.5404 - val_accuracy: 0.6348\n",
            "Epoch 30/30\n",
            "88/88 [==============================] - 34s 385ms/step - loss: 0.2850 - accuracy: 0.9021 - val_loss: 1.4854 - val_accuracy: 0.6386\n"
          ]
        }
      ]
    },
    {
      "cell_type": "code",
      "metadata": {
        "colab": {
          "base_uri": "https://localhost:8080/",
          "height": 369
        },
        "id": "It0GCU9oUDfs",
        "outputId": "601db58c-efd7-4065-f1c0-c33ca6db871a"
      },
      "source": [
        "plot_history(history, nEpoch)"
      ],
      "execution_count": 8,
      "outputs": [
        {
          "output_type": "display_data",
          "data": {
            "image/png": "[encoded data removed]",
            "text/plain": [
              "<Figure size 1080x360 with 2 Axes>"
            ]
          },
          "metadata": {
            "needs_background": "light"
          }
        }
      ]
    },
    {
      "cell_type": "code",
      "metadata": {
        "colab": {
          "base_uri": "https://localhost:8080/"
        },
        "id": "vqQ9JAuWPchI",
        "outputId": "a50e857a-3b7a-4a4b-a3fd-bf406155f354"
      },
      "source": [
        "#Ta chọn epoch thứ 12 làm best model\n",
        "model = tf.keras.models.load_model(\"/content/epoch: 14.hdf5\")\n",
        "result = model.evaluate(X_test,y_test)\n",
        "print(\"Loss và Accuracy trên tập test là {} {}\".format(result[0],result[1]))"
      ],
      "execution_count": 10,
      "outputs": [
        {
          "output_type": "stream",
          "name": "stdout",
          "text": [
            "313/313 [==============================] - 6s 20ms/step - loss: 1.0814 - accuracy: 0.6103\n",
            "Loss và Accuracy trên tập test là 1.0814043283462524 0.6103000044822693\n"
          ]
        }
      ]
    },
    {
      "cell_type": "markdown",
      "metadata": {
        "id": "YIDnRr_kQIAa"
      },
      "source": [
        "**Nhận xét**\n",
        "\n",
        "1. Lý do ta chọn model tại epoch thứ 14 làm best model là vì dựa vào biểu đồ \"Training and Validation Loss\" bên trên. Ta thấy rằng, tại epoch này đường biểu diễn validation loss chuyển từ đang giảm sang có xu hướng tăng, đồng thời traning loss vẫn tiếp tục giảm. Điều này là dấu hiệu của việc model bắt đầu bị overfitting. Vì vậy việc lựa chọn mô hình tại epoch này đảm bảo sai số giữa training và testing là vừa phải khi thực hiện việc dự đoán trên tập test.\n",
        "2. Tuy nhiên, với mô hình VGG16 cho tập dữ liệu Cifar10 được cài đặt như bên trên vẫn chưa thực sự phù hợp và đủ tốt. Do mô hình bị overfitting quá nặng dẫn đến độ chính xác trên tập validation lẫn tập test vẫn còn thấp. Ta có thể cải thiện mô hình bằng một số kỹ thuật như Dropout, Normalization, Regularization cho các lớp Conv2D/Fully Connected Layers v.v. Hoặc có thể điều chỉnh các thông số như số lượng hidden node ở các Fully Connected Layers sao cho độ chính xác của mô hình và loss được cải thiện hơn trên tập validation/test. "
      ]
    }
  ]
}