{
  "nbformat": 4,
  "nbformat_minor": 0,
  "metadata": {
    "colab": {
      "name": "MHNC_TH3_18110075.ipynb",
      "provenance": []
    },
    "kernelspec": {
      "name": "python3",
      "display_name": "Python 3"
    },
    "language_info": {
      "name": "python"
    },
    "accelerator": "GPU"
  },
  "cells": [
    {
      "cell_type": "code",
      "metadata": {
        "id": "U2zfp7bKmsgo"
      },
      "source": [
        "import tensorflow as tf\n",
        "from tensorflow.keras import backend as K\n",
        "import numpy as np\n",
        "import matplotlib.pyplot as plt"
      ],
      "execution_count": 1,
      "outputs": []
    },
    {
      "cell_type": "code",
      "metadata": {
        "id": "yaFoC6z2r6lu"
      },
      "source": [
        "from tensorflow import keras\n",
        "from tensorflow.keras import layers"
      ],
      "execution_count": 5,
      "outputs": []
    },
    {
      "cell_type": "code",
      "metadata": {
        "colab": {
          "base_uri": "https://localhost:8080/",
          "height": 418
        },
        "id": "DgcLejmcrYtt",
        "outputId": "da3a25be-c767-4e88-920c-42839d68d683"
      },
      "source": [
        "\n",
        "## download MNIST dataset from keras.datasets\n",
        "(X_train, y_train), (X_test, y_test) = tf.keras.datasets.mnist.load_data()\n",
        "## rescale images to [0,1]\n",
        "X_train, X_test = X_train/255.0, X_test/255.0\n",
        "\n",
        "## dataset information\n",
        "print(X_train.shape, y_train.shape, X_test.shape, y_test.shape)\n",
        "print(\"Có 60000 ảnh dùng để train và valid, 10000 ảnh dùng để test\")\n",
        "print(\"Mỗi ảnh có một kênh màu, kích thước 28x28\")\n",
        "print()\n",
        "\n",
        "## Show the first image\n",
        "print(\"Ảnh đầu tiên của tập train\")\n",
        "print(\"Label đầu tiên của tập train: \", y_train[0])\n",
        "plt.imshow(X_train[0], cmap='gray')\n",
        "plt.show()\n",
        "\n",
        "## split data\n",
        "from sklearn.model_selection import train_test_split\n",
        "X_train, X_valid, y_train, y_valid = train_test_split(X_train, y_train, test_size=0.1)"
      ],
      "execution_count": 2,
      "outputs": [
        {
          "output_type": "stream",
          "name": "stdout",
          "text": [
            "Downloading data from https://storage.googleapis.com/tensorflow/tf-keras-datasets/mnist.npz\n",
            "11493376/11490434 [==============================] - 0s 0us/step\n",
            "11501568/11490434 [==============================] - 0s 0us/step\n",
            "(60000, 28, 28) (60000,) (10000, 28, 28) (10000,)\n",
            "Có 60000 ảnh dùng để train và valid, 10000 ảnh dùng để test\n",
            "Mỗi ảnh có một kênh màu, kích thước 28x28\n",
            "\n",
            "Ảnh đầu tiên của tập train\n",
            "Label đầu tiên của tập train:  5\n"
          ]
        },
        {
          "output_type": "display_data",
          "data": {
            "image/png": "[encoded data removed]",
            "text/plain": [
              "<Figure size 432x288 with 1 Axes>"
            ]
          },
          "metadata": {
            "needs_background": "light"
          }
        }
      ]
    },
    {
      "cell_type": "code",
      "metadata": {
        "id": "dJGo8ndImyIa"
      },
      "source": [
        "class Linear(tf.keras.layers.Layer):\n",
        "    def __init__(self, units=100):\n",
        "        super().__init__() \n",
        "        self.units = units\n",
        "    def build(self, input_shape):\n",
        "        self.w = self.add_weight(shape=(input_shape[-1], self.units),\n",
        "                                 initializer=tf.random_normal_initializer,\n",
        "                                 trainable=True,\n",
        "                                 name=\"w1\") \n",
        "        \n",
        "        self.b = self.add_weight(shape=(self.units,),\n",
        "                                 initializer=tf.random_normal_initializer,\n",
        "                                 trainable=True,\n",
        "                                 name=\"b1\")\n",
        "    def call(self, inputs):\n",
        "        return tf.nn.relu(tf.matmul(inputs, self.w) + self.b)\n",
        "\n",
        "\n",
        "class ConvMaxpoolBlock(tf.keras.layers.Layer):\n",
        "    def __init__(self, filter_size, n_filters):\n",
        "        super().__init__()\n",
        "        self.filter_size = filter_size\n",
        "        self.n_filters = n_filters\n",
        "    def build(self, input_shape):\n",
        "        self.kernel = self.add_weight(name=\"kernel\",\n",
        "                                      shape=(self.filter_size[0], self.filter_size[1], input_shape[-1], self.n_filters),\n",
        "                                      initializer=tf.random_normal_initializer,\n",
        "                                      trainable=True)\n",
        "        self.bias = self.add_weight(name=\"bias\",\n",
        "                                      shape=(1,self.n_filters),\n",
        "                                      initializer=tf.random_normal_initializer,\n",
        "                                      trainable=True)\n",
        "    def call(self, inputs):\n",
        "        conv = K.conv2d(x=inputs,\n",
        "                        kernel=self.kernel,\n",
        "                        padding=\"same\")\n",
        "        conv = conv+self.bias\n",
        "        conv = tf.nn.relu(conv)\n",
        "        maxpool = K.pool2d(conv, \n",
        "                           pool_size=(2,2), \n",
        "                           strides=(2,2),\n",
        "                          pool_mode='max')\n",
        "        return maxpool\n",
        "\n",
        "class DoubleConvMaxpool(tf.keras.layers.Layer):\n",
        "    def __init__(self):\n",
        "        super().__init__()\n",
        "        \n",
        "        self.ConvMaxpool1 = ConvMaxpoolBlock(filter_size=[5,5],\n",
        "                                             n_filters=16)\n",
        "        self.ConvMaxpool2 = ConvMaxpoolBlock(filter_size=[3,3],\n",
        "                                             n_filters=32)\n",
        "\n",
        "    def call(self, inputs):\n",
        "        out = self.ConvMaxpool1(inputs)\n",
        "        out = self.ConvMaxpool2(out)\n",
        "        return out\n",
        "\n",
        "class DoubleFC(tf.keras.layers.Layer):\n",
        "    def __init__(self):\n",
        "        super().__init__()\n",
        "        self.linear1 = Linear(100)\n",
        "        self.linear2 = Linear(50)\n",
        "\n",
        "    def call(self, inputs):\n",
        "        out = self.linear1(inputs)\n",
        "        out = self.linear2(out)\n",
        "        return out"
      ],
      "execution_count": 3,
      "outputs": []
    },
    {
      "cell_type": "code",
      "metadata": {
        "id": "Z5wH5znF15Ii"
      },
      "source": [
        "def plot_history(history, nEpoch):\n",
        "    # Plot loss and accuracy\n",
        "    acc = history.history['accuracy']\n",
        "    val_acc = history.history['val_accuracy']\n",
        "\n",
        "    loss = history.history['loss']\n",
        "    val_loss = history.history['val_loss']\n",
        "\n",
        "    epochs_range = range(nEpoch)\n",
        "\n",
        "    plt.figure(figsize=(15, 5))\n",
        "    plt.subplot(1, 2, 1)\n",
        "    plt.plot(epochs_range, acc, label='Training Accuracy')\n",
        "    plt.plot(epochs_range, val_acc, label='Validation Accuracy')\n",
        "    plt.legend(loc='lower right')\n",
        "    plt.title('Training and Validation Accuracy')\n",
        "\n",
        "    plt.subplot(1, 2, 2)\n",
        "    plt.plot(epochs_range, loss, label='Training Loss')\n",
        "    plt.plot(epochs_range, val_loss, label='Validation Loss')\n",
        "    plt.legend(loc='upper right')\n",
        "    plt.title('Training and Validation Loss')\n",
        "    plt.tight_layout()\n",
        "    plt.show()"
      ],
      "execution_count": 4,
      "outputs": []
    },
    {
      "cell_type": "code",
      "metadata": {
        "id": "OCnXlkZcsWpy"
      },
      "source": [
        "def get_model():\n",
        "    model = keras.Sequential()\n",
        "    model.add(keras.layers.Input(shape=(28, 28)))\n",
        "    model.add(keras.layers.Reshape([28,28,1]))\n",
        "    model.add(DoubleConvMaxpool())\n",
        "    model.add(keras.layers.Flatten())\n",
        "    model.add(DoubleFC())\n",
        "    model.add(keras.layers.Dense(10, activation='softmax'))\n",
        "    return model"
      ],
      "execution_count": 6,
      "outputs": []
    },
    {
      "cell_type": "code",
      "metadata": {
        "id": "qwczboqmsj4i"
      },
      "source": [
        "model = get_model()\n",
        "\n",
        "\n",
        "model.compile(loss = tf.keras.losses.sparse_categorical_crossentropy,\n",
        "               optimizer= tf.keras.optimizers.Adam(learning_rate=5e-5),\n",
        "               metrics=['accuracy'])"
      ],
      "execution_count": 7,
      "outputs": []
    },
    {
      "cell_type": "code",
      "metadata": {
        "colab": {
          "base_uri": "https://localhost:8080/"
        },
        "id": "QeejcGPZuEoe",
        "outputId": "daef4ffe-0dc9-41f2-9ccc-d2d5ac6edcd1"
      },
      "source": [
        "# input_shape = [None, 28, 28, 1]\n",
        "# model.build(input_shape=input_shape)\n",
        "model.summary()"
      ],
      "execution_count": 8,
      "outputs": [
        {
          "output_type": "stream",
          "name": "stdout",
          "text": [
            "Model: \"sequential\"\n",
            "_________________________________________________________________\n",
            "Layer (type)                 Output Shape              Param #   \n",
            "=================================================================\n",
            "reshape (Reshape)            (None, 28, 28, 1)         0         \n",
            "_________________________________________________________________\n",
            "double_conv_maxpool (DoubleC (None, 7, 7, 32)          5056      \n",
            "_________________________________________________________________\n",
            "flatten (Flatten)            (None, 1568)              0         \n",
            "_________________________________________________________________\n",
            "double_fc (DoubleFC)         (None, 50)                161950    \n",
            "_________________________________________________________________\n",
            "dense (Dense)                (None, 10)                510       \n",
            "=================================================================\n",
            "Total params: 167,516\n",
            "Trainable params: 167,516\n",
            "Non-trainable params: 0\n",
            "_________________________________________________________________\n"
          ]
        }
      ]
    },
    {
      "cell_type": "code",
      "metadata": {
        "colab": {
          "base_uri": "https://localhost:8080/"
        },
        "id": "JwjyRLjOudnw",
        "outputId": "368741fe-af67-4366-f08c-eb883c1d1382"
      },
      "source": [
        "BATCH_SIZE=512\n",
        "nEPOCH=30\n",
        "\n",
        "mc = keras.callbacks.ModelCheckpoint(filepath=\"epoch: {epoch:02d}.hdf5\", \n",
        "                                     monitor='val_loss',\n",
        "                                     mode='min', \n",
        "                                     verbose=0,\n",
        "                                     save_best_only=False)\n",
        "\n",
        "history = model.fit(X_train, y_train,\n",
        "                    batch_size=BATCH_SIZE,\n",
        "                    epochs=nEPOCH,\n",
        "                    validation_data=(X_valid, y_valid),\n",
        "                    callbacks=[mc])"
      ],
      "execution_count": 9,
      "outputs": [
        {
          "output_type": "stream",
          "name": "stdout",
          "text": [
            "Epoch 1/30\n",
            "106/106 [==============================] - 32s 23ms/step - loss: 2.2708 - accuracy: 0.1806 - val_loss: 2.2037 - val_accuracy: 0.3120\n",
            "Epoch 2/30\n",
            "106/106 [==============================] - 2s 19ms/step - loss: 1.9516 - accuracy: 0.4689 - val_loss: 1.5472 - val_accuracy: 0.6673\n",
            "Epoch 3/30\n",
            "106/106 [==============================] - 2s 19ms/step - loss: 1.0974 - accuracy: 0.7618 - val_loss: 0.7511 - val_accuracy: 0.8213\n",
            "Epoch 4/30\n",
            "106/106 [==============================] - 2s 19ms/step - loss: 0.6029 - accuracy: 0.8446 - val_loss: 0.5265 - val_accuracy: 0.8513\n",
            "Epoch 5/30\n",
            "106/106 [==============================] - 2s 19ms/step - loss: 0.4660 - accuracy: 0.8686 - val_loss: 0.4446 - val_accuracy: 0.8740\n",
            "Epoch 6/30\n",
            "106/106 [==============================] - 2s 19ms/step - loss: 0.4089 - accuracy: 0.8811 - val_loss: 0.4041 - val_accuracy: 0.8825\n",
            "Epoch 7/30\n",
            "106/106 [==============================] - 2s 19ms/step - loss: 0.3726 - accuracy: 0.8899 - val_loss: 0.3726 - val_accuracy: 0.8898\n",
            "Epoch 8/30\n",
            "106/106 [==============================] - 2s 19ms/step - loss: 0.3450 - accuracy: 0.8973 - val_loss: 0.3516 - val_accuracy: 0.8940\n",
            "Epoch 9/30\n",
            "106/106 [==============================] - 2s 19ms/step - loss: 0.3231 - accuracy: 0.9036 - val_loss: 0.3290 - val_accuracy: 0.9017\n",
            "Epoch 10/30\n",
            "106/106 [==============================] - 2s 19ms/step - loss: 0.3054 - accuracy: 0.9084 - val_loss: 0.3077 - val_accuracy: 0.9075\n",
            "Epoch 11/30\n",
            "106/106 [==============================] - 2s 19ms/step - loss: 0.2887 - accuracy: 0.9140 - val_loss: 0.2928 - val_accuracy: 0.9137\n",
            "Epoch 12/30\n",
            "106/106 [==============================] - 2s 19ms/step - loss: 0.2742 - accuracy: 0.9183 - val_loss: 0.2792 - val_accuracy: 0.9153\n",
            "Epoch 13/30\n",
            "106/106 [==============================] - 2s 19ms/step - loss: 0.2616 - accuracy: 0.9223 - val_loss: 0.2656 - val_accuracy: 0.9193\n",
            "Epoch 14/30\n",
            "106/106 [==============================] - 2s 19ms/step - loss: 0.2492 - accuracy: 0.9255 - val_loss: 0.2534 - val_accuracy: 0.9232\n",
            "Epoch 15/30\n",
            "106/106 [==============================] - 2s 22ms/step - loss: 0.2386 - accuracy: 0.9292 - val_loss: 0.2415 - val_accuracy: 0.9253\n",
            "Epoch 16/30\n",
            "106/106 [==============================] - 2s 19ms/step - loss: 0.2277 - accuracy: 0.9329 - val_loss: 0.2323 - val_accuracy: 0.9275\n",
            "Epoch 17/30\n",
            "106/106 [==============================] - 2s 19ms/step - loss: 0.2188 - accuracy: 0.9346 - val_loss: 0.2256 - val_accuracy: 0.9323\n",
            "Epoch 18/30\n",
            "106/106 [==============================] - 2s 19ms/step - loss: 0.2093 - accuracy: 0.9382 - val_loss: 0.2151 - val_accuracy: 0.9347\n",
            "Epoch 19/30\n",
            "106/106 [==============================] - 2s 19ms/step - loss: 0.2013 - accuracy: 0.9403 - val_loss: 0.2068 - val_accuracy: 0.9373\n",
            "Epoch 20/30\n",
            "106/106 [==============================] - 2s 19ms/step - loss: 0.1937 - accuracy: 0.9427 - val_loss: 0.1984 - val_accuracy: 0.9405\n",
            "Epoch 21/30\n",
            "106/106 [==============================] - 2s 19ms/step - loss: 0.1860 - accuracy: 0.9446 - val_loss: 0.1931 - val_accuracy: 0.9428\n",
            "Epoch 22/30\n",
            "106/106 [==============================] - 2s 19ms/step - loss: 0.1794 - accuracy: 0.9469 - val_loss: 0.1841 - val_accuracy: 0.9445\n",
            "Epoch 23/30\n",
            "106/106 [==============================] - 2s 19ms/step - loss: 0.1736 - accuracy: 0.9487 - val_loss: 0.1781 - val_accuracy: 0.9462\n",
            "Epoch 24/30\n",
            "106/106 [==============================] - 2s 19ms/step - loss: 0.1669 - accuracy: 0.9503 - val_loss: 0.1715 - val_accuracy: 0.9478\n",
            "Epoch 25/30\n",
            "106/106 [==============================] - 2s 19ms/step - loss: 0.1613 - accuracy: 0.9521 - val_loss: 0.1716 - val_accuracy: 0.9465\n",
            "Epoch 26/30\n",
            "106/106 [==============================] - 2s 19ms/step - loss: 0.1558 - accuracy: 0.9538 - val_loss: 0.1596 - val_accuracy: 0.9522\n",
            "Epoch 27/30\n",
            "106/106 [==============================] - 2s 19ms/step - loss: 0.1501 - accuracy: 0.9553 - val_loss: 0.1542 - val_accuracy: 0.9522\n",
            "Epoch 28/30\n",
            "106/106 [==============================] - 2s 19ms/step - loss: 0.1462 - accuracy: 0.9567 - val_loss: 0.1509 - val_accuracy: 0.9530\n",
            "Epoch 29/30\n",
            "106/106 [==============================] - 2s 19ms/step - loss: 0.1412 - accuracy: 0.9584 - val_loss: 0.1450 - val_accuracy: 0.9532\n",
            "Epoch 30/30\n",
            "106/106 [==============================] - 2s 19ms/step - loss: 0.1363 - accuracy: 0.9593 - val_loss: 0.1433 - val_accuracy: 0.9560\n"
          ]
        }
      ]
    },
    {
      "cell_type": "code",
      "metadata": {
        "colab": {
          "base_uri": "https://localhost:8080/",
          "height": 369
        },
        "id": "ChHw2qpf2IyL",
        "outputId": "5ccc0b5c-c9d5-4fee-fba6-ef84a39ab4d4"
      },
      "source": [
        "plot_history(history, nEPOCH)"
      ],
      "execution_count": 10,
      "outputs": [
        {
          "output_type": "display_data",
          "data": {
            "image/png": "[encoded data removed]",
            "text/plain": [
              "<Figure size 1080x360 with 2 Axes>"
            ]
          },
          "metadata": {
            "needs_background": "light"
          }
        }
      ]
    }
  ]
}