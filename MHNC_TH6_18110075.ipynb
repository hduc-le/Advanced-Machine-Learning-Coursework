{
  "cells": [
    {
      "cell_type": "code",
      "execution_count": 1,
      "metadata": {
        "id": "E5jyWurKPVI4"
      },
      "outputs": [],
      "source": [
        "import pandas as pd\n",
        "import numpy as np\n",
        "import nltk"
      ]
    },
    {
      "cell_type": "code",
      "execution_count": 2,
      "metadata": {
        "id": "xB4dpWBUajAf"
      },
      "outputs": [],
      "source": [
        "def plot_history(history, nEpoch):\n",
        "    # Plot loss and accuracy\n",
        "    acc = history.history['accuracy']\n",
        "    val_acc = history.history['val_accuracy']\n",
        "\n",
        "    loss = history.history['loss']\n",
        "    val_loss = history.history['val_loss']\n",
        "\n",
        "    epochs_range = range(nEpoch)\n",
        "\n",
        "    plt.figure(figsize=(15, 5))\n",
        "    plt.subplot(1, 2, 1)\n",
        "    plt.plot(epochs_range, acc, label='Training Accuracy')\n",
        "    plt.plot(epochs_range, val_acc, label='Validation Accuracy')\n",
        "    plt.legend(loc='lower right')\n",
        "    plt.title('Training and Validation Accuracy')\n",
        "\n",
        "    plt.subplot(1, 2, 2)\n",
        "    plt.plot(epochs_range, loss, label='Training Loss')\n",
        "    plt.plot(epochs_range, val_loss, label='Validation Loss')\n",
        "    plt.legend(loc='upper right')\n",
        "    plt.title('Training and Validation Loss')\n",
        "    plt.tight_layout()\n",
        "    plt.show()"
      ]
    },
    {
      "cell_type": "code",
      "execution_count": 3,
      "metadata": {
        "colab": {
          "base_uri": "https://localhost:8080/",
          "height": 206
        },
        "id": "ZwnVQTdDQE4h",
        "outputId": "2678cc8e-397f-4f6c-fa3d-4dfa71c223d1"
      },
      "outputs": [
        {
          "data": {
            "text/html": [
              "<div>\n",
              "<style scoped>\n",
              "    .dataframe tbody tr th:only-of-type {\n",
              "        vertical-align: middle;\n",
              "    }\n",
              "\n",
              "    .dataframe tbody tr th {\n",
              "        vertical-align: top;\n",
              "    }\n",
              "\n",
              "    .dataframe thead th {\n",
              "        text-align: right;\n",
              "    }\n",
              "</style>\n",
              "<table border=\"1\" class=\"dataframe\">\n",
              "  <thead>\n",
              "    <tr style=\"text-align: right;\">\n",
              "      <th></th>\n",
              "      <th>Text</th>\n",
              "      <th>Label</th>\n",
              "      <th>y</th>\n",
              "    </tr>\n",
              "  </thead>\n",
              "  <tbody>\n",
              "    <tr>\n",
              "      <th>0</th>\n",
              "      <td>Go until jurong point, crazy.. Available only ...</td>\n",
              "      <td>ham</td>\n",
              "      <td>0</td>\n",
              "    </tr>\n",
              "    <tr>\n",
              "      <th>1</th>\n",
              "      <td>Ok lar... Joking wif u oni...</td>\n",
              "      <td>ham</td>\n",
              "      <td>0</td>\n",
              "    </tr>\n",
              "    <tr>\n",
              "      <th>2</th>\n",
              "      <td>Free entry in 2 a wkly comp to win FA Cup fina...</td>\n",
              "      <td>spam</td>\n",
              "      <td>1</td>\n",
              "    </tr>\n",
              "    <tr>\n",
              "      <th>3</th>\n",
              "      <td>U dun say so early hor... U c already then say...</td>\n",
              "      <td>ham</td>\n",
              "      <td>0</td>\n",
              "    </tr>\n",
              "    <tr>\n",
              "      <th>4</th>\n",
              "      <td>Nah I don't think he goes to usf, he lives aro...</td>\n",
              "      <td>ham</td>\n",
              "      <td>0</td>\n",
              "    </tr>\n",
              "  </tbody>\n",
              "</table>\n",
              "</div>"
            ],
            "text/plain": [
              "                                                Text Label  y\n",
              "0  Go until jurong point, crazy.. Available only ...   ham  0\n",
              "1                      Ok lar... Joking wif u oni...   ham  0\n",
              "2  Free entry in 2 a wkly comp to win FA Cup fina...  spam  1\n",
              "3  U dun say so early hor... U c already then say...   ham  0\n",
              "4  Nah I don't think he goes to usf, he lives aro...   ham  0"
            ]
          },
          "execution_count": 3,
          "metadata": {},
          "output_type": "execute_result"
        }
      ],
      "source": [
        "#đọc data\n",
        "df = pd.read_csv(\"https://raw.githubusercontent.com/huynhthanh98/AML/main/lab-04/spam_detection.csv\")\n",
        "df.head()"
      ]
    },
    {
      "cell_type": "code",
      "execution_count": 4,
      "metadata": {
        "colab": {
          "base_uri": "https://localhost:8080/"
        },
        "id": "k-Nb0zT4QH6i",
        "outputId": "f5efadd7-9ec3-4dc7-d964-c85ecb2d4af5"
      },
      "outputs": [
        {
          "name": "stdout",
          "output_type": "stream",
          "text": [
            "[nltk_data] Downloading package punkt to /root/nltk_data...\n",
            "[nltk_data]   Unzipping tokenizers/punkt.zip.\n"
          ]
        }
      ],
      "source": [
        "nltk.download('punkt')\n",
        "texts = df[\"Text\"].to_list()\n",
        "texts = [text.lower() for text in texts ]           # chuyển các đoạn text thành chữ thường (word embedding chỉ cho chữ thường)\n",
        "tokenized_texts = [nltk.tokenize.word_tokenize(text) for text in texts]    # tách câu thành một list các từ"
      ]
    },
    {
      "cell_type": "code",
      "execution_count": 5,
      "metadata": {
        "colab": {
          "base_uri": "https://localhost:8080/"
        },
        "id": "kx6GuTUYQKDb",
        "outputId": "80a2cd4b-b31b-4951-9e86-985544d7bc0a"
      },
      "outputs": [
        {
          "name": "stdout",
          "output_type": "stream",
          "text": [
            "['go', 'until', 'jurong', 'point', ',', 'crazy..', 'available', 'only', 'in', 'bugis', 'n', 'great', 'world', 'la', 'e', 'buffet', '...', 'cine', 'there', 'got', 'amore', 'wat', '...']\n"
          ]
        }
      ],
      "source": [
        "print(tokenized_texts[0])\n"
      ]
    },
    {
      "cell_type": "code",
      "execution_count": 6,
      "metadata": {
        "colab": {
          "base_uri": "https://localhost:8080/"
        },
        "id": "sxjlA13bQLNH",
        "outputId": "173c8263-f30e-4e06-dd82-4d2b1d79bb81"
      },
      "outputs": [
        {
          "name": "stdout",
          "output_type": "stream",
          "text": [
            "--2021-11-19 04:18:51--  https://nlp.stanford.edu/data/glove.6B.zip\n",
            "Resolving nlp.stanford.edu (nlp.stanford.edu)... 171.64.67.140\n",
            "Connecting to nlp.stanford.edu (nlp.stanford.edu)|171.64.67.140|:443... connected.\n",
            "HTTP request sent, awaiting response... 301 Moved Permanently\n",
            "Location: http://downloads.cs.stanford.edu/nlp/data/glove.6B.zip [following]\n",
            "--2021-11-19 04:18:51--  http://downloads.cs.stanford.edu/nlp/data/glove.6B.zip\n",
            "Resolving downloads.cs.stanford.edu (downloads.cs.stanford.edu)... 171.64.64.22\n",
            "Connecting to downloads.cs.stanford.edu (downloads.cs.stanford.edu)|171.64.64.22|:80... connected.\n",
            "HTTP request sent, awaiting response... 200 OK\n",
            "Length: 862182613 (822M) [application/zip]\n",
            "Saving to: ‘glove.6B.zip’\n",
            "\n",
            "glove.6B.zip        100%[===================>] 822.24M  5.21MB/s    in 2m 42s  \n",
            "\n",
            "2021-11-19 04:21:33 (5.08 MB/s) - ‘glove.6B.zip’ saved [862182613/862182613]\n",
            "\n"
          ]
        }
      ],
      "source": [
        "# Tải bộ weights Glove 300d\n",
        "!wget https://nlp.stanford.edu/data/glove.6B.zip"
      ]
    },
    {
      "cell_type": "code",
      "execution_count": 7,
      "metadata": {
        "colab": {
          "base_uri": "https://localhost:8080/"
        },
        "id": "H1FtK3a1QO37",
        "outputId": "375ac395-027d-4f63-9039-5dd70baf900d"
      },
      "outputs": [
        {
          "name": "stdout",
          "output_type": "stream",
          "text": [
            "Archive:  glove.6B.zip\n",
            "  inflating: glove.6B.50d.txt        \n",
            "  inflating: glove.6B.100d.txt       \n",
            "  inflating: glove.6B.200d.txt       \n",
            "  inflating: glove.6B.300d.txt       \n"
          ]
        }
      ],
      "source": [
        "#Giải Nén\n",
        "!unzip glove.6B.zip"
      ]
    },
    {
      "cell_type": "code",
      "execution_count": 8,
      "metadata": {
        "id": "m-UhrofZQT6J"
      },
      "outputs": [],
      "source": [
        "import io\n",
        "import numpy as np\n",
        "def load_word_embeddings(fname):\n",
        "    fin = io.open(fname, 'r', encoding='utf-8', newline='\\n', errors='ignore')\n",
        "    vocab, matrix = [], []\n",
        "    i=0\n",
        "    for line in fin:\n",
        "        tokens = line.rstrip().split(' ')\n",
        "        vocab.append(tokens[0])\n",
        "        matrix.append(list(map(float, tokens[1:])))\n",
        "        del tokens\n",
        "    return vocab, np.asarray(matrix)"
      ]
    },
    {
      "cell_type": "code",
      "execution_count": 9,
      "metadata": {
        "id": "rxjj262QQ4Bw"
      },
      "outputs": [],
      "source": [
        "vocab, matrix = load_word_embeddings(\"glove.6B.300d.txt\")"
      ]
    },
    {
      "cell_type": "code",
      "execution_count": 10,
      "metadata": {
        "colab": {
          "base_uri": "https://localhost:8080/"
        },
        "id": "tu68Je08Q-Ed",
        "outputId": "882af580-cbef-42bb-a4c5-5dc70a09d661"
      },
      "outputs": [
        {
          "data": {
            "text/plain": [
              "(400000, 300)"
            ]
          },
          "execution_count": 10,
          "metadata": {},
          "output_type": "execute_result"
        }
      ],
      "source": [
        "matrix.shape"
      ]
    },
    {
      "cell_type": "code",
      "execution_count": 11,
      "metadata": {
        "id": "s0UcDFoxRAw8"
      },
      "outputs": [],
      "source": [
        "\n",
        "\n",
        "## Gán các mã\n",
        "__PADDED_INDEX__ = 0    # mã dùng cho các vị trí chỉ có tính nối dài cho cùng kích thước\n",
        "__UNKNOWN_WORD__ = 1    # mã cho những từ không có trong embedding\n",
        "\n"
      ]
    },
    {
      "cell_type": "code",
      "execution_count": 12,
      "metadata": {
        "id": "JfFUKaGFRCYH"
      },
      "outputs": [],
      "source": [
        "word_to_index = {word: index+2 for index, word in enumerate(vocab)}\n"
      ]
    },
    {
      "cell_type": "code",
      "execution_count": 13,
      "metadata": {
        "colab": {
          "base_uri": "https://localhost:8080/"
        },
        "id": "WCvvDj8IRKIa",
        "outputId": "0f599dff-73eb-419d-c630-08b13d964598"
      },
      "outputs": [
        {
          "name": "stdout",
          "output_type": "stream",
          "text": [
            "[[ 0.         0.         0.        ...  0.         0.         0.       ]\n",
            " [ 0.         0.         0.        ...  0.         0.         0.       ]\n",
            " [ 0.04656    0.21318   -0.0074364 ...  0.0090611 -0.20989    0.053913 ]\n",
            " ...\n",
            " [ 0.075713  -0.040502   0.18345   ...  0.21838    0.30967    0.43761  ]\n",
            " [ 0.81451   -0.36221    0.31186   ...  0.075486   0.28408   -0.17559  ]\n",
            " [ 0.429191  -0.296897   0.15011   ...  0.28975    0.32618   -0.0590532]]\n"
          ]
        }
      ],
      "source": [
        "embedding_matrix = np.pad(matrix, ((2,0),(0,0)), mode='constant', constant_values =0.0)\n",
        "print(embedding_matrix)"
      ]
    },
    {
      "cell_type": "code",
      "execution_count": 14,
      "metadata": {
        "id": "dPbp2m_ORMJR"
      },
      "outputs": [],
      "source": [
        "import tensorflow as tf\n",
        "\n",
        "X = []\n",
        "for text in tokenized_texts:\n",
        "    cur_text_indices = []\n",
        "    for word in text:\n",
        "        if word in word_to_index:\n",
        "            cur_text_indices.append(word_to_index[word])    \n",
        "        else:\n",
        "            cur_text_indices.append(__UNKNOWN_WORD__)       \n",
        "    X.append(cur_text_indices)\n",
        "\n",
        "## pad data cho có cùng chiều dài\n",
        "X = tf.keras.preprocessing.sequence.pad_sequences(sequences=X,       \n",
        "                                                  padding='post')    \n",
        "\n",
        "y = df['y'].values   ## Label của bài toán, 0 là không phải spam, 1 là spam\n"
      ]
    },
    {
      "cell_type": "code",
      "execution_count": 15,
      "metadata": {
        "id": "CXaDIFSURO5b"
      },
      "outputs": [],
      "source": [
        "## Chia data\n",
        "from sklearn.model_selection import train_test_split\n",
        "X_train, X_valid, y_train, y_valid = train_test_split(X, y, test_size= 0.2, random_state =0)"
      ]
    },
    {
      "cell_type": "code",
      "execution_count": 16,
      "metadata": {
        "colab": {
          "base_uri": "https://localhost:8080/"
        },
        "id": "0YfMQ0pBRV3v",
        "outputId": "f08de7cd-93fb-4f61-b3a5-f065b87217bc"
      },
      "outputs": [
        {
          "data": {
            "text/plain": [
              "(4459, 215)"
            ]
          },
          "execution_count": 16,
          "metadata": {},
          "output_type": "execute_result"
        }
      ],
      "source": [
        "X_train.shape"
      ]
    },
    {
      "cell_type": "code",
      "execution_count": 17,
      "metadata": {
        "colab": {
          "base_uri": "https://localhost:8080/"
        },
        "id": "Q2uE5APPRgwC",
        "outputId": "2ac35fe2-a905-41b2-8d98-56ff61ab2626"
      },
      "outputs": [
        {
          "data": {
            "text/plain": [
              "(400002, 300)"
            ]
          },
          "execution_count": 17,
          "metadata": {},
          "output_type": "execute_result"
        }
      ],
      "source": [
        "embedding_matrix.shape"
      ]
    },
    {
      "cell_type": "code",
      "execution_count": 18,
      "metadata": {
        "colab": {
          "base_uri": "https://localhost:8080/"
        },
        "id": "vCb8WMFt-9pg",
        "outputId": "d1dec304-045e-4336-beca-f158945a12a9"
      },
      "outputs": [
        {
          "name": "stdout",
          "output_type": "stream",
          "text": [
            "Model: \"model\"\n",
            "_________________________________________________________________\n",
            " Layer (type)                Output Shape              Param #   \n",
            "=================================================================\n",
            " input_1 (InputLayer)        [(None, None)]            0         \n",
            "                                                                 \n",
            " embedding (Embedding)       (None, None, 300)         120000600 \n",
            "                                                                 \n",
            " conv1d (Conv1D)             (None, None, 100)         60100     \n",
            "                                                                 \n",
            " global_average_pooling1d (G  (None, 100)              0         \n",
            " lobalAveragePooling1D)                                          \n",
            "                                                                 \n",
            " dense (Dense)               (None, 2)                 202       \n",
            "                                                                 \n",
            "=================================================================\n",
            "Total params: 120,060,902\n",
            "Trainable params: 60,302\n",
            "Non-trainable params: 120,000,600\n",
            "_________________________________________________________________\n"
          ]
        }
      ],
      "source": [
        "from tensorflow.keras.layers import Input, Embedding,Conv1D, LSTM, Bidirectional, Dense, GRU, GlobalAveragePooling1D\n",
        "from tensorflow.keras.models import Model\n",
        "\n",
        "inputs = Input(shape=(None,))                  \n",
        "\n",
        "embed = Embedding(input_dim=embedding_matrix.shape[0],  \n",
        "                 output_dim=embedding_matrix.shape[1],   \n",
        "                  embeddings_initializer = tf.keras.initializers.Constant(value=embedding_matrix), \n",
        "                  trainable=False,                       \n",
        "                 mask_zero=True)(inputs)                 \n",
        "\n",
        " \n",
        "conv1d = Conv1D(filters=100, kernel_size=2, activation='relu')(embed)\n",
        "\n",
        "global_maxpool = GlobalAveragePooling1D()(conv1d)\n",
        "dense = Dense(units=2, activation='softmax')(global_maxpool)\n",
        "model = Model(inputs=inputs,\n",
        "              outputs=dense)\n",
        "\n",
        "model.compile(optimizer='adam',\n",
        "             loss='sparse_categorical_crossentropy',\n",
        "             metrics=['accuracy'])\n",
        "model.summary()"
      ]
    },
    {
      "cell_type": "code",
      "execution_count": 19,
      "metadata": {
        "colab": {
          "base_uri": "https://localhost:8080/"
        },
        "id": "37AClq8I_CGQ",
        "outputId": "15cd3505-3e74-4e44-a32b-daf410a28463"
      },
      "outputs": [
        {
          "name": "stdout",
          "output_type": "stream",
          "text": [
            "Epoch 1/20\n",
            "9/9 [==============================] - 17s 40ms/step - loss: 0.6344 - accuracy: 0.7984 - val_loss: 0.5684 - val_accuracy: 0.8520\n",
            "Epoch 2/20\n",
            "9/9 [==============================] - 0s 16ms/step - loss: 0.5252 - accuracy: 0.8695 - val_loss: 0.4938 - val_accuracy: 0.8520\n",
            "Epoch 3/20\n",
            "9/9 [==============================] - 0s 16ms/step - loss: 0.4656 - accuracy: 0.8695 - val_loss: 0.4620 - val_accuracy: 0.8520\n",
            "Epoch 4/20\n",
            "9/9 [==============================] - 0s 16ms/step - loss: 0.4357 - accuracy: 0.8695 - val_loss: 0.4410 - val_accuracy: 0.8520\n",
            "Epoch 5/20\n",
            "9/9 [==============================] - 0s 16ms/step - loss: 0.4109 - accuracy: 0.8695 - val_loss: 0.4119 - val_accuracy: 0.8520\n",
            "Epoch 6/20\n",
            "9/9 [==============================] - 0s 16ms/step - loss: 0.3807 - accuracy: 0.8695 - val_loss: 0.3764 - val_accuracy: 0.8520\n",
            "Epoch 7/20\n",
            "9/9 [==============================] - 0s 16ms/step - loss: 0.3470 - accuracy: 0.8722 - val_loss: 0.3405 - val_accuracy: 0.8610\n",
            "Epoch 8/20\n",
            "9/9 [==============================] - 0s 17ms/step - loss: 0.3126 - accuracy: 0.8910 - val_loss: 0.3046 - val_accuracy: 0.8978\n",
            "Epoch 9/20\n",
            "9/9 [==============================] - 0s 16ms/step - loss: 0.2776 - accuracy: 0.9141 - val_loss: 0.2709 - val_accuracy: 0.9166\n",
            "Epoch 10/20\n",
            "9/9 [==============================] - 0s 16ms/step - loss: 0.2454 - accuracy: 0.9276 - val_loss: 0.2411 - val_accuracy: 0.9291\n",
            "Epoch 11/20\n",
            "9/9 [==============================] - 0s 16ms/step - loss: 0.2175 - accuracy: 0.9410 - val_loss: 0.2158 - val_accuracy: 0.9426\n",
            "Epoch 12/20\n",
            "9/9 [==============================] - 0s 16ms/step - loss: 0.1941 - accuracy: 0.9473 - val_loss: 0.1965 - val_accuracy: 0.9453\n",
            "Epoch 13/20\n",
            "9/9 [==============================] - 0s 16ms/step - loss: 0.1753 - accuracy: 0.9525 - val_loss: 0.1801 - val_accuracy: 0.9507\n",
            "Epoch 14/20\n",
            "9/9 [==============================] - 0s 17ms/step - loss: 0.1603 - accuracy: 0.9594 - val_loss: 0.1671 - val_accuracy: 0.9543\n",
            "Epoch 15/20\n",
            "9/9 [==============================] - 0s 16ms/step - loss: 0.1480 - accuracy: 0.9603 - val_loss: 0.1574 - val_accuracy: 0.9561\n",
            "Epoch 16/20\n",
            "9/9 [==============================] - 0s 16ms/step - loss: 0.1378 - accuracy: 0.9641 - val_loss: 0.1483 - val_accuracy: 0.9596\n",
            "Epoch 17/20\n",
            "9/9 [==============================] - 0s 16ms/step - loss: 0.1296 - accuracy: 0.9666 - val_loss: 0.1415 - val_accuracy: 0.9623\n",
            "Epoch 18/20\n",
            "9/9 [==============================] - 0s 16ms/step - loss: 0.1224 - accuracy: 0.9666 - val_loss: 0.1359 - val_accuracy: 0.9623\n",
            "Epoch 19/20\n",
            "9/9 [==============================] - 0s 16ms/step - loss: 0.1168 - accuracy: 0.9659 - val_loss: 0.1311 - val_accuracy: 0.9623\n",
            "Epoch 20/20\n",
            "9/9 [==============================] - 0s 16ms/step - loss: 0.1116 - accuracy: 0.9673 - val_loss: 0.1269 - val_accuracy: 0.9632\n"
          ]
        }
      ],
      "source": [
        "history = model.fit(X_train, y_train,\n",
        "                    batch_size=512,\n",
        "                    epochs=20,\n",
        "                    validation_data=(X_valid, y_valid)) "
      ]
    },
    {
      "cell_type": "code",
      "execution_count": 20,
      "metadata": {
        "colab": {
          "base_uri": "https://localhost:8080/",
          "height": 369
        },
        "id": "DgZ57s8F_GmN",
        "outputId": "94df39e6-3e51-4568-928b-f7de709c7a56"
      },
      "outputs": [
        {
          "data": {
            "image/png": "[encoded data removed]",
            "text/plain": [
              "<Figure size 1080x360 with 2 Axes>"
            ]
          },
          "metadata": {
            "needs_background": "light"
          },
          "output_type": "display_data"
        }
      ],
      "source": [
        "import matplotlib.pyplot as plt\n",
        "plot_history(history, 20)"
      ]
    },
    {
      "cell_type": "code",
      "execution_count": 21,
      "metadata": {
        "colab": {
          "base_uri": "https://localhost:8080/"
        },
        "id": "gH45mQvDcLla",
        "outputId": "79206130-74ef-41da-f4c8-fad123cdd6bf"
      },
      "outputs": [
        {
          "name": "stdout",
          "output_type": "stream",
          "text": [
            "Model: \"model_1\"\n",
            "_________________________________________________________________\n",
            " Layer (type)                Output Shape              Param #   \n",
            "=================================================================\n",
            " input_2 (InputLayer)        [(None, None)]            0         \n",
            "                                                                 \n",
            " embedding_1 (Embedding)     (None, None, 300)         120000600 \n",
            "                                                                 \n",
            " conv1d_1 (Conv1D)           (None, None, 100)         60100     \n",
            "                                                                 \n",
            " global_average_pooling1d_1   (None, 100)              0         \n",
            " (GlobalAveragePooling1D)                                        \n",
            "                                                                 \n",
            " dense_1 (Dense)             (None, 2)                 202       \n",
            "                                                                 \n",
            "=================================================================\n",
            "Total params: 120,060,902\n",
            "Trainable params: 120,060,902\n",
            "Non-trainable params: 0\n",
            "_________________________________________________________________\n"
          ]
        }
      ],
      "source": [
        "inputs = Input(shape=(None,))                  \n",
        "\n",
        "embed = Embedding(input_dim=embedding_matrix.shape[0],  \n",
        "                 output_dim=embedding_matrix.shape[1],   \n",
        "                  embeddings_initializer = tf.keras.initializers.Constant(value=embedding_matrix), \n",
        "                  trainable=True,                       \n",
        "                 mask_zero=True)(inputs)                 \n",
        "\n",
        " \n",
        "conv1d = Conv1D(filters=100, kernel_size=2, activation='relu')(embed)\n",
        "\n",
        "global_maxpool = GlobalAveragePooling1D()(conv1d)\n",
        "dense = Dense(units=2, activation='softmax')(global_maxpool)\n",
        "model = Model(inputs=inputs,\n",
        "              outputs=dense)\n",
        "\n",
        "model.compile(optimizer='adam',\n",
        "             loss='sparse_categorical_crossentropy',\n",
        "             metrics=['accuracy'])\n",
        "model.summary()"
      ]
    },
    {
      "cell_type": "code",
      "execution_count": 22,
      "metadata": {
        "colab": {
          "base_uri": "https://localhost:8080/"
        },
        "id": "tG0QFq6gcOmT",
        "outputId": "edabb5f8-91d5-41a8-e754-f2b23307d5fd"
      },
      "outputs": [
        {
          "name": "stdout",
          "output_type": "stream",
          "text": [
            "Epoch 1/20\n",
            "9/9 [==============================] - 1s 73ms/step - loss: 0.6050 - accuracy: 0.8168 - val_loss: 0.5009 - val_accuracy: 0.8520\n",
            "Epoch 2/20\n",
            "9/9 [==============================] - 1s 57ms/step - loss: 0.4270 - accuracy: 0.8695 - val_loss: 0.4243 - val_accuracy: 0.8520\n",
            "Epoch 3/20\n",
            "9/9 [==============================] - 1s 57ms/step - loss: 0.3928 - accuracy: 0.8695 - val_loss: 0.4162 - val_accuracy: 0.8520\n",
            "Epoch 4/20\n",
            "9/9 [==============================] - 1s 56ms/step - loss: 0.3618 - accuracy: 0.8695 - val_loss: 0.3728 - val_accuracy: 0.8520\n",
            "Epoch 5/20\n",
            "9/9 [==============================] - 1s 57ms/step - loss: 0.3352 - accuracy: 0.8695 - val_loss: 0.3387 - val_accuracy: 0.8520\n",
            "Epoch 6/20\n",
            "9/9 [==============================] - 1s 57ms/step - loss: 0.2945 - accuracy: 0.8695 - val_loss: 0.2939 - val_accuracy: 0.8520\n",
            "Epoch 7/20\n",
            "9/9 [==============================] - 1s 57ms/step - loss: 0.2437 - accuracy: 0.8787 - val_loss: 0.2360 - val_accuracy: 0.8924\n",
            "Epoch 8/20\n",
            "9/9 [==============================] - 1s 57ms/step - loss: 0.1920 - accuracy: 0.9280 - val_loss: 0.1848 - val_accuracy: 0.9309\n",
            "Epoch 9/20\n",
            "9/9 [==============================] - 1s 57ms/step - loss: 0.1439 - accuracy: 0.9536 - val_loss: 0.1431 - val_accuracy: 0.9561\n",
            "Epoch 10/20\n",
            "9/9 [==============================] - 1s 58ms/step - loss: 0.1086 - accuracy: 0.9666 - val_loss: 0.1160 - val_accuracy: 0.9632\n",
            "Epoch 11/20\n",
            "9/9 [==============================] - 1s 57ms/step - loss: 0.0847 - accuracy: 0.9767 - val_loss: 0.0985 - val_accuracy: 0.9695\n",
            "Epoch 12/20\n",
            "9/9 [==============================] - 1s 57ms/step - loss: 0.0699 - accuracy: 0.9807 - val_loss: 0.0876 - val_accuracy: 0.9713\n",
            "Epoch 13/20\n",
            "9/9 [==============================] - 1s 57ms/step - loss: 0.0599 - accuracy: 0.9827 - val_loss: 0.0804 - val_accuracy: 0.9758\n",
            "Epoch 14/20\n",
            "9/9 [==============================] - 1s 56ms/step - loss: 0.0524 - accuracy: 0.9845 - val_loss: 0.0747 - val_accuracy: 0.9758\n",
            "Epoch 15/20\n",
            "9/9 [==============================] - 1s 58ms/step - loss: 0.0471 - accuracy: 0.9859 - val_loss: 0.0712 - val_accuracy: 0.9758\n",
            "Epoch 16/20\n",
            "9/9 [==============================] - 1s 56ms/step - loss: 0.0426 - accuracy: 0.9861 - val_loss: 0.0679 - val_accuracy: 0.9767\n",
            "Epoch 17/20\n",
            "9/9 [==============================] - 1s 56ms/step - loss: 0.0386 - accuracy: 0.9890 - val_loss: 0.0644 - val_accuracy: 0.9776\n",
            "Epoch 18/20\n",
            "9/9 [==============================] - 1s 58ms/step - loss: 0.0352 - accuracy: 0.9906 - val_loss: 0.0630 - val_accuracy: 0.9803\n",
            "Epoch 19/20\n",
            "9/9 [==============================] - 1s 57ms/step - loss: 0.0317 - accuracy: 0.9924 - val_loss: 0.0602 - val_accuracy: 0.9830\n",
            "Epoch 20/20\n",
            "9/9 [==============================] - 1s 57ms/step - loss: 0.0291 - accuracy: 0.9933 - val_loss: 0.0597 - val_accuracy: 0.9821\n"
          ]
        }
      ],
      "source": [
        "\n",
        "history = model.fit(X_train, y_train,\n",
        "                    batch_size=512,\n",
        "                    epochs=20,\n",
        "                    validation_data=(X_valid, y_valid)) "
      ]
    },
    {
      "cell_type": "code",
      "execution_count": 23,
      "metadata": {
        "colab": {
          "base_uri": "https://localhost:8080/",
          "height": 369
        },
        "id": "DVjAz8TQcYsV",
        "outputId": "08fe6f04-2a8b-45a6-bb9f-0672a8129b70"
      },
      "outputs": [
        {
          "data": {
            "image/png": "[encoded data removed]",
            "text/plain": [
              "<Figure size 1080x360 with 2 Axes>"
            ]
          },
          "metadata": {
            "needs_background": "light"
          },
          "output_type": "display_data"
        }
      ],
      "source": [
        "plot_history(history, 20)"
      ]
    },
    {
      "cell_type": "markdown",
      "metadata": {},
      "source": [
        "Nhận xét: khi không thực hiện train các tham số của Embedding Layer, tức tham số trainable = False. Đồng nghĩa với việc các tham số này không được cập nhật trong quá trình training. Dẫn đến độ chính xác của mô hình có thấp hơn việc ta thiết lập trainable = True. Nghĩa là, tham số của Embedding Layer lúc này được cập nhật trong quá trình training, dẫn đến độ chính xác có tốt hơn. Tuy nhiên, điều này cũng đánh đổi lại việc mô hình sẽ trở nên phức tạp hơn, có kích thước lớn hơn."
      ]
    },
    {
      "cell_type": "markdown",
      "metadata": {},
      "source": []
    }
  ],
  "metadata": {
    "accelerator": "GPU",
    "colab": {
      "collapsed_sections": [],
      "machine_shape": "hm",
      "name": "MHNC_TH6_18110075.ipynb",
      "provenance": []
    },
    "kernelspec": {
      "display_name": "Python 3",
      "name": "python3"
    },
    "language_info": {
      "name": "python"
    }
  },
  "nbformat": 4,
  "nbformat_minor": 0
}
